{
 "cells": [
  {
   "cell_type": "code",
   "execution_count": 1,
   "metadata": {
    "collapsed": true
   },
   "outputs": [],
   "source": [
    "import numpy as np\n",
    "import tensorflow as tf\n",
    "import tensorflow_probability as tfp\n",
    "\n",
    "import matplotlib.pyplot as plt\n",
    "%matplotlib inline"
   ]
  },
  {
   "cell_type": "code",
   "execution_count": 2,
   "metadata": {
    "collapsed": true
   },
   "outputs": [],
   "source": [
    "tfd = tfp.distributions"
   ]
  },
  {
   "cell_type": "code",
   "execution_count": 9,
   "metadata": {
    "collapsed": true
   },
   "outputs": [],
   "source": [
    "?tf.keras.applications.InceptionResNetV2."
   ]
  },
  {
   "cell_type": "code",
   "execution_count": 67,
   "metadata": {
    "collapsed": false
   },
   "outputs": [],
   "source": [
    "model = tf.keras.applications.MobileNet(\n",
    "        include_top=True, weights='imagenet', input_tensor=None,\n",
    "        input_shape=None, pooling=None, classes=1000,\n",
    "        classifier_activation='softmax'\n",
    "    )"
   ]
  },
  {
   "cell_type": "code",
   "execution_count": 158,
   "metadata": {
    "collapsed": false
   },
   "outputs": [],
   "source": [
    "a = model.submodules[1]"
   ]
  },
  {
   "cell_type": "code",
   "execution_count": 164,
   "metadata": {
    "collapsed": false
   },
   "outputs": [
    {
     "data": {
      "text/plain": [
       "{tensorflow.python.keras.layers.core.Reshape,\n",
       " tensorflow.python.keras.layers.advanced_activations.ReLU,\n",
       " tensorflow.python.keras.engine.input_layer.InputLayer,\n",
       " tensorflow.python.keras.layers.pooling.GlobalAveragePooling2D,\n",
       " tensorflow.python.keras.layers.core.Dropout,\n",
       " tensorflow.python.keras.layers.core.Activation,\n",
       " tensorflow.python.keras.layers.convolutional.Conv2D,\n",
       " tensorflow.python.keras.layers.convolutional.ZeroPadding2D,\n",
       " tensorflow.python.keras.layers.normalization_v2.BatchNormalization,\n",
       " tensorflow.python.keras.layers.convolutional.DepthwiseConv2D}"
      ]
     },
     "execution_count": 164,
     "metadata": {},
     "output_type": "execute_result"
    }
   ],
   "source": [
    "set([type(m) for m in model.submodules])"
   ]
  },
  {
   "cell_type": "code",
   "execution_count": 170,
   "metadata": {
    "collapsed": false
   },
   "outputs": [
    {
     "data": {
      "text/plain": [
       "[<tensorflow.python.keras.engine.input_layer.InputLayer at 0x7fc039520080>,\n",
       " <tensorflow.python.keras.layers.convolutional.ZeroPadding2D at 0x7fc03acc0080>,\n",
       " <tensorflow.python.keras.layers.convolutional.Conv2D at 0x7fc037c068d0>,\n",
       " <tensorflow.python.keras.layers.normalization_v2.BatchNormalization at 0x7fc03cb96080>,\n",
       " <tensorflow.python.keras.layers.advanced_activations.ReLU at 0x7fc03cde6c50>,\n",
       " <tensorflow.python.keras.layers.convolutional.DepthwiseConv2D at 0x7fc039d07a90>,\n",
       " <tensorflow.python.keras.layers.normalization_v2.BatchNormalization at 0x7fc03a8b07f0>,\n",
       " <tensorflow.python.keras.layers.advanced_activations.ReLU at 0x7fc03b162f60>,\n",
       " <tensorflow.python.keras.layers.convolutional.Conv2D at 0x7fc03ac39908>,\n",
       " <tensorflow.python.keras.layers.normalization_v2.BatchNormalization at 0x7fc03cb07438>,\n",
       " <tensorflow.python.keras.layers.advanced_activations.ReLU at 0x7fc034a5d390>,\n",
       " <tensorflow.python.keras.layers.convolutional.ZeroPadding2D at 0x7fc03c892208>,\n",
       " <tensorflow.python.keras.layers.convolutional.DepthwiseConv2D at 0x7fc039a47550>,\n",
       " <tensorflow.python.keras.layers.normalization_v2.BatchNormalization at 0x7fc03863a828>,\n",
       " <tensorflow.python.keras.layers.advanced_activations.ReLU at 0x7fc03d0357f0>,\n",
       " <tensorflow.python.keras.layers.convolutional.Conv2D at 0x7fc034a54860>,\n",
       " <tensorflow.python.keras.layers.normalization_v2.BatchNormalization at 0x7fc03cdd8e10>,\n",
       " <tensorflow.python.keras.layers.advanced_activations.ReLU at 0x7fc03ac894a8>,\n",
       " <tensorflow.python.keras.layers.convolutional.DepthwiseConv2D at 0x7fc039585c88>,\n",
       " <tensorflow.python.keras.layers.normalization_v2.BatchNormalization at 0x7fc034c3d710>,\n",
       " <tensorflow.python.keras.layers.advanced_activations.ReLU at 0x7fc039eb17f0>,\n",
       " <tensorflow.python.keras.layers.convolutional.Conv2D at 0x7fc039e8bac8>,\n",
       " <tensorflow.python.keras.layers.normalization_v2.BatchNormalization at 0x7fc034bcc4a8>,\n",
       " <tensorflow.python.keras.layers.advanced_activations.ReLU at 0x7fc03d006b00>,\n",
       " <tensorflow.python.keras.layers.convolutional.ZeroPadding2D at 0x7fc034b7ea90>,\n",
       " <tensorflow.python.keras.layers.convolutional.DepthwiseConv2D at 0x7fc0395d19b0>,\n",
       " <tensorflow.python.keras.layers.normalization_v2.BatchNormalization at 0x7fc03c89bef0>,\n",
       " <tensorflow.python.keras.layers.advanced_activations.ReLU at 0x7fc039445710>,\n",
       " <tensorflow.python.keras.layers.convolutional.Conv2D at 0x7fc039445048>,\n",
       " <tensorflow.python.keras.layers.normalization_v2.BatchNormalization at 0x7fc039c236d8>,\n",
       " <tensorflow.python.keras.layers.advanced_activations.ReLU at 0x7fc039c23d68>,\n",
       " <tensorflow.python.keras.layers.convolutional.DepthwiseConv2D at 0x7fc039c0c080>,\n",
       " <tensorflow.python.keras.layers.normalization_v2.BatchNormalization at 0x7fc039c20710>,\n",
       " <tensorflow.python.keras.layers.advanced_activations.ReLU at 0x7fc039c20f28>,\n",
       " <tensorflow.python.keras.layers.convolutional.Conv2D at 0x7fc039c20978>,\n",
       " <tensorflow.python.keras.layers.normalization_v2.BatchNormalization at 0x7fc039c143c8>,\n",
       " <tensorflow.python.keras.layers.advanced_activations.ReLU at 0x7fc039c146d8>,\n",
       " <tensorflow.python.keras.layers.convolutional.ZeroPadding2D at 0x7fc039c147b8>,\n",
       " <tensorflow.python.keras.layers.convolutional.DepthwiseConv2D at 0x7fc03954c3c8>,\n",
       " <tensorflow.python.keras.layers.normalization_v2.BatchNormalization at 0x7fc039541438>,\n",
       " <tensorflow.python.keras.layers.advanced_activations.ReLU at 0x7fc039541cf8>,\n",
       " <tensorflow.python.keras.layers.convolutional.Conv2D at 0x7fc039541668>,\n",
       " <tensorflow.python.keras.layers.normalization_v2.BatchNormalization at 0x7fc0395670b8>,\n",
       " <tensorflow.python.keras.layers.advanced_activations.ReLU at 0x7fc0395673c8>,\n",
       " <tensorflow.python.keras.layers.convolutional.DepthwiseConv2D at 0x7fc0395674e0>,\n",
       " <tensorflow.python.keras.layers.normalization_v2.BatchNormalization at 0x7fc03957ccf8>,\n",
       " <tensorflow.python.keras.layers.advanced_activations.ReLU at 0x7fc039578668>,\n",
       " <tensorflow.python.keras.layers.convolutional.Conv2D at 0x7fc039578278>,\n",
       " <tensorflow.python.keras.layers.normalization_v2.BatchNormalization at 0x7fc0395435f8>,\n",
       " <tensorflow.python.keras.layers.advanced_activations.ReLU at 0x7fc039543eb8>,\n",
       " <tensorflow.python.keras.layers.convolutional.DepthwiseConv2D at 0x7fc039543e10>,\n",
       " <tensorflow.python.keras.layers.normalization_v2.BatchNormalization at 0x7fc034ad1630>,\n",
       " <tensorflow.python.keras.layers.advanced_activations.ReLU at 0x7fc034ad1b70>,\n",
       " <tensorflow.python.keras.layers.convolutional.Conv2D at 0x7fc034ad1898>,\n",
       " <tensorflow.python.keras.layers.normalization_v2.BatchNormalization at 0x7fc034ac22e8>,\n",
       " <tensorflow.python.keras.layers.advanced_activations.ReLU at 0x7fc034ac25f8>,\n",
       " <tensorflow.python.keras.layers.convolutional.DepthwiseConv2D at 0x7fc034ac2710>,\n",
       " <tensorflow.python.keras.layers.normalization_v2.BatchNormalization at 0x7fc034accf28>,\n",
       " <tensorflow.python.keras.layers.advanced_activations.ReLU at 0x7fc034ab5860>,\n",
       " <tensorflow.python.keras.layers.convolutional.Conv2D at 0x7fc034ab51d0>,\n",
       " <tensorflow.python.keras.layers.normalization_v2.BatchNormalization at 0x7fc039b50b70>,\n",
       " <tensorflow.python.keras.layers.advanced_activations.ReLU at 0x7fc039b50ef0>,\n",
       " <tensorflow.python.keras.layers.convolutional.DepthwiseConv2D at 0x7fc039b57080>,\n",
       " <tensorflow.python.keras.layers.normalization_v2.BatchNormalization at 0x7fc039b44940>,\n",
       " <tensorflow.python.keras.layers.advanced_activations.ReLU at 0x7fc039b44d68>,\n",
       " <tensorflow.python.keras.layers.convolutional.Conv2D at 0x7fc039b61198>,\n",
       " <tensorflow.python.keras.layers.normalization_v2.BatchNormalization at 0x7fc039b474a8>,\n",
       " <tensorflow.python.keras.layers.advanced_activations.ReLU at 0x7fc039b47860>,\n",
       " <tensorflow.python.keras.layers.convolutional.DepthwiseConv2D at 0x7fc039b47978>,\n",
       " <tensorflow.python.keras.layers.normalization_v2.BatchNormalization at 0x7fc039b55240>,\n",
       " <tensorflow.python.keras.layers.advanced_activations.ReLU at 0x7fc039b55a90>,\n",
       " <tensorflow.python.keras.layers.convolutional.Conv2D at 0x7fc039b553c8>,\n",
       " <tensorflow.python.keras.layers.normalization_v2.BatchNormalization at 0x7fc03c322a58>,\n",
       " <tensorflow.python.keras.layers.advanced_activations.ReLU at 0x7fc03c31a160>,\n",
       " <tensorflow.python.keras.layers.convolutional.ZeroPadding2D at 0x7fc03c31a240>,\n",
       " <tensorflow.python.keras.layers.convolutional.DepthwiseConv2D at 0x7fc03c2fad30>,\n",
       " <tensorflow.python.keras.layers.normalization_v2.BatchNormalization at 0x7fc03c305e80>,\n",
       " <tensorflow.python.keras.layers.advanced_activations.ReLU at 0x7fc03c3087b8>,\n",
       " <tensorflow.python.keras.layers.convolutional.Conv2D at 0x7fc03c3083c8>,\n",
       " <tensorflow.python.keras.layers.normalization_v2.BatchNormalization at 0x7fc03c316a58>,\n",
       " <tensorflow.python.keras.layers.advanced_activations.ReLU at 0x7fc03c316e48>,\n",
       " <tensorflow.python.keras.layers.convolutional.DepthwiseConv2D at 0x7fc03c31d0f0>,\n",
       " <tensorflow.python.keras.layers.normalization_v2.BatchNormalization at 0x7fc03c32f780>,\n",
       " <tensorflow.python.keras.layers.advanced_activations.ReLU at 0x7fc03c32ff98>,\n",
       " <tensorflow.python.keras.layers.convolutional.Conv2D at 0x7fc03c332198>,\n",
       " <tensorflow.python.keras.layers.normalization_v2.BatchNormalization at 0x7fc03c2343c8>,\n",
       " <tensorflow.python.keras.layers.advanced_activations.ReLU at 0x7fc03c234780>,\n",
       " <tensorflow.python.keras.layers.pooling.GlobalAveragePooling2D at 0x7fc03c2347b8>,\n",
       " <tensorflow.python.keras.layers.core.Reshape at 0x7fc03c228a90>,\n",
       " <tensorflow.python.keras.layers.core.Dropout at 0x7fc03c2282e8>,\n",
       " <tensorflow.python.keras.layers.convolutional.Conv2D at 0x7fc03c20e6d8>,\n",
       " <tensorflow.python.keras.layers.core.Reshape at 0x7fc03c236748>,\n",
       " <tensorflow.python.keras.layers.core.Activation at 0x7fc03c2368d0>]"
      ]
     },
     "execution_count": 170,
     "metadata": {},
     "output_type": "execute_result"
    }
   ],
   "source": [
    "model.layers"
   ]
  },
  {
   "cell_type": "code",
   "execution_count": null,
   "metadata": {
    "collapsed": true
   },
   "outputs": [],
   "source": []
  },
  {
   "cell_type": "code",
   "execution_count": 69,
   "metadata": {
    "collapsed": false
   },
   "outputs": [],
   "source": [
    "res = model.call(tf.random.uniform((128, 224, 224, 3)))"
   ]
  },
  {
   "cell_type": "code",
   "execution_count": 141,
   "metadata": {
    "collapsed": true
   },
   "outputs": [],
   "source": [
    "def init_masks(model_vars, mask = 1.):\n",
    "    m_list = []\n",
    "    for v in model_vars:\n",
    "        m_list.append(tf.Variable(tf.ones_like(v) * mask, trainable=True))\n",
    "        \n",
    "    return m_list\n",
    "\n",
    "def keep_record(model_vars):\n",
    "    w_list = []\n",
    "    for v in model_vars:\n",
    "        w_list.append(v.numpy())\n",
    "        \n",
    "    return w_list"
   ]
  },
  {
   "cell_type": "code",
   "execution_count": 142,
   "metadata": {
    "collapsed": false
   },
   "outputs": [],
   "source": [
    "m_list = init_masks(model.trainable_variables, mask=0.)\n",
    "w_list = keep_record(model.trainable_variables)"
   ]
  },
  {
   "cell_type": "code",
   "execution_count": 143,
   "metadata": {
    "collapsed": true
   },
   "outputs": [],
   "source": [
    "fake_x = tf.random.uniform((128, 224, 224, 3))\n",
    "fake_y = tf.zeros((128, 1000))"
   ]
  },
  {
   "cell_type": "code",
   "execution_count": 144,
   "metadata": {
    "collapsed": false
   },
   "outputs": [],
   "source": [
    "model_vars = model.trainable_variables\n",
    "lamda = 1.0\n",
    "\n",
    "with tf.GradientTape() as tape:\n",
    "    for i, v in enumerate(model_vars):\n",
    "        model_vars[i] = m_list[i] * w_list[i]\n",
    "    \n",
    "    nll = tf.keras.losses.CategoricalCrossentropy(from_logits=False)(fake_y, model.call(fake_x))\n",
    "    l0_norm = tf.reduce_sum([tf.reduce_sum(m) for m in m_list])\n",
    "    \n",
    "dm = tape.gradient(nll , m_list)"
   ]
  },
  {
   "cell_type": "code",
   "execution_count": 96,
   "metadata": {
    "collapsed": false
   },
   "outputs": [
    {
     "name": "stdout",
     "output_type": "stream",
     "text": [
      "conv1/kernel:0\n",
      "conv1_bn/gamma:0\n",
      "conv1_bn/beta:0\n",
      "conv_dw_1/depthwise_kernel:0\n",
      "conv_dw_1_bn/gamma:0\n",
      "conv_dw_1_bn/beta:0\n",
      "conv_pw_1/kernel:0\n",
      "conv_pw_1_bn/gamma:0\n",
      "conv_pw_1_bn/beta:0\n",
      "conv_dw_2/depthwise_kernel:0\n",
      "conv_dw_2_bn/gamma:0\n",
      "conv_dw_2_bn/beta:0\n",
      "conv_pw_2/kernel:0\n",
      "conv_pw_2_bn/gamma:0\n",
      "conv_pw_2_bn/beta:0\n",
      "conv_dw_3/depthwise_kernel:0\n",
      "conv_dw_3_bn/gamma:0\n",
      "conv_dw_3_bn/beta:0\n",
      "conv_pw_3/kernel:0\n",
      "conv_pw_3_bn/gamma:0\n",
      "conv_pw_3_bn/beta:0\n",
      "conv_dw_4/depthwise_kernel:0\n",
      "conv_dw_4_bn/gamma:0\n",
      "conv_dw_4_bn/beta:0\n",
      "conv_pw_4/kernel:0\n",
      "conv_pw_4_bn/gamma:0\n",
      "conv_pw_4_bn/beta:0\n",
      "conv_dw_5/depthwise_kernel:0\n",
      "conv_dw_5_bn/gamma:0\n",
      "conv_dw_5_bn/beta:0\n",
      "conv_pw_5/kernel:0\n",
      "conv_pw_5_bn/gamma:0\n",
      "conv_pw_5_bn/beta:0\n",
      "conv_dw_6/depthwise_kernel:0\n",
      "conv_dw_6_bn/gamma:0\n",
      "conv_dw_6_bn/beta:0\n",
      "conv_pw_6/kernel:0\n",
      "conv_pw_6_bn/gamma:0\n",
      "conv_pw_6_bn/beta:0\n",
      "conv_dw_7/depthwise_kernel:0\n",
      "conv_dw_7_bn/gamma:0\n",
      "conv_dw_7_bn/beta:0\n",
      "conv_pw_7/kernel:0\n",
      "conv_pw_7_bn/gamma:0\n",
      "conv_pw_7_bn/beta:0\n",
      "conv_dw_8/depthwise_kernel:0\n",
      "conv_dw_8_bn/gamma:0\n",
      "conv_dw_8_bn/beta:0\n",
      "conv_pw_8/kernel:0\n",
      "conv_pw_8_bn/gamma:0\n",
      "conv_pw_8_bn/beta:0\n",
      "conv_dw_9/depthwise_kernel:0\n",
      "conv_dw_9_bn/gamma:0\n",
      "conv_dw_9_bn/beta:0\n",
      "conv_pw_9/kernel:0\n",
      "conv_pw_9_bn/gamma:0\n",
      "conv_pw_9_bn/beta:0\n",
      "conv_dw_10/depthwise_kernel:0\n",
      "conv_dw_10_bn/gamma:0\n",
      "conv_dw_10_bn/beta:0\n",
      "conv_pw_10/kernel:0\n",
      "conv_pw_10_bn/gamma:0\n",
      "conv_pw_10_bn/beta:0\n",
      "conv_dw_11/depthwise_kernel:0\n",
      "conv_dw_11_bn/gamma:0\n",
      "conv_dw_11_bn/beta:0\n",
      "conv_pw_11/kernel:0\n",
      "conv_pw_11_bn/gamma:0\n",
      "conv_pw_11_bn/beta:0\n",
      "conv_dw_12/depthwise_kernel:0\n",
      "conv_dw_12_bn/gamma:0\n",
      "conv_dw_12_bn/beta:0\n",
      "conv_pw_12/kernel:0\n",
      "conv_pw_12_bn/gamma:0\n",
      "conv_pw_12_bn/beta:0\n",
      "conv_dw_13/depthwise_kernel:0\n",
      "conv_dw_13_bn/gamma:0\n",
      "conv_dw_13_bn/beta:0\n",
      "conv_pw_13/kernel:0\n",
      "conv_pw_13_bn/gamma:0\n",
      "conv_pw_13_bn/beta:0\n",
      "conv_preds/kernel:0\n",
      "conv_preds/bias:0\n"
     ]
    }
   ],
   "source": [
    "for i in model.trainable_variables:\n",
    "    print(i.name)"
   ]
  },
  {
   "cell_type": "code",
   "execution_count": 98,
   "metadata": {
    "collapsed": false
   },
   "outputs": [
    {
     "name": "stdout",
     "output_type": "stream",
     "text": [
      "conv1/kernel:0\n",
      "conv1_bn/gamma:0\n",
      "conv1_bn/beta:0\n",
      "conv1_bn/moving_mean:0\n",
      "conv1_bn/moving_variance:0\n",
      "conv_dw_1/depthwise_kernel:0\n",
      "conv_dw_1_bn/gamma:0\n",
      "conv_dw_1_bn/beta:0\n",
      "conv_dw_1_bn/moving_mean:0\n",
      "conv_dw_1_bn/moving_variance:0\n",
      "conv_pw_1/kernel:0\n",
      "conv_pw_1_bn/gamma:0\n",
      "conv_pw_1_bn/beta:0\n",
      "conv_pw_1_bn/moving_mean:0\n",
      "conv_pw_1_bn/moving_variance:0\n",
      "conv_dw_2/depthwise_kernel:0\n",
      "conv_dw_2_bn/gamma:0\n",
      "conv_dw_2_bn/beta:0\n",
      "conv_dw_2_bn/moving_mean:0\n",
      "conv_dw_2_bn/moving_variance:0\n",
      "conv_pw_2/kernel:0\n",
      "conv_pw_2_bn/gamma:0\n",
      "conv_pw_2_bn/beta:0\n",
      "conv_pw_2_bn/moving_mean:0\n",
      "conv_pw_2_bn/moving_variance:0\n",
      "conv_dw_3/depthwise_kernel:0\n",
      "conv_dw_3_bn/gamma:0\n",
      "conv_dw_3_bn/beta:0\n",
      "conv_dw_3_bn/moving_mean:0\n",
      "conv_dw_3_bn/moving_variance:0\n",
      "conv_pw_3/kernel:0\n",
      "conv_pw_3_bn/gamma:0\n",
      "conv_pw_3_bn/beta:0\n",
      "conv_pw_3_bn/moving_mean:0\n",
      "conv_pw_3_bn/moving_variance:0\n",
      "conv_dw_4/depthwise_kernel:0\n",
      "conv_dw_4_bn/gamma:0\n",
      "conv_dw_4_bn/beta:0\n",
      "conv_dw_4_bn/moving_mean:0\n",
      "conv_dw_4_bn/moving_variance:0\n",
      "conv_pw_4/kernel:0\n",
      "conv_pw_4_bn/gamma:0\n",
      "conv_pw_4_bn/beta:0\n",
      "conv_pw_4_bn/moving_mean:0\n",
      "conv_pw_4_bn/moving_variance:0\n",
      "conv_dw_5/depthwise_kernel:0\n",
      "conv_dw_5_bn/gamma:0\n",
      "conv_dw_5_bn/beta:0\n",
      "conv_dw_5_bn/moving_mean:0\n",
      "conv_dw_5_bn/moving_variance:0\n",
      "conv_pw_5/kernel:0\n",
      "conv_pw_5_bn/gamma:0\n",
      "conv_pw_5_bn/beta:0\n",
      "conv_pw_5_bn/moving_mean:0\n",
      "conv_pw_5_bn/moving_variance:0\n",
      "conv_dw_6/depthwise_kernel:0\n",
      "conv_dw_6_bn/gamma:0\n",
      "conv_dw_6_bn/beta:0\n",
      "conv_dw_6_bn/moving_mean:0\n",
      "conv_dw_6_bn/moving_variance:0\n",
      "conv_pw_6/kernel:0\n",
      "conv_pw_6_bn/gamma:0\n",
      "conv_pw_6_bn/beta:0\n",
      "conv_pw_6_bn/moving_mean:0\n",
      "conv_pw_6_bn/moving_variance:0\n",
      "conv_dw_7/depthwise_kernel:0\n",
      "conv_dw_7_bn/gamma:0\n",
      "conv_dw_7_bn/beta:0\n",
      "conv_dw_7_bn/moving_mean:0\n",
      "conv_dw_7_bn/moving_variance:0\n",
      "conv_pw_7/kernel:0\n",
      "conv_pw_7_bn/gamma:0\n",
      "conv_pw_7_bn/beta:0\n",
      "conv_pw_7_bn/moving_mean:0\n",
      "conv_pw_7_bn/moving_variance:0\n",
      "conv_dw_8/depthwise_kernel:0\n",
      "conv_dw_8_bn/gamma:0\n",
      "conv_dw_8_bn/beta:0\n",
      "conv_dw_8_bn/moving_mean:0\n",
      "conv_dw_8_bn/moving_variance:0\n",
      "conv_pw_8/kernel:0\n",
      "conv_pw_8_bn/gamma:0\n",
      "conv_pw_8_bn/beta:0\n",
      "conv_pw_8_bn/moving_mean:0\n",
      "conv_pw_8_bn/moving_variance:0\n",
      "conv_dw_9/depthwise_kernel:0\n",
      "conv_dw_9_bn/gamma:0\n",
      "conv_dw_9_bn/beta:0\n",
      "conv_dw_9_bn/moving_mean:0\n",
      "conv_dw_9_bn/moving_variance:0\n",
      "conv_pw_9/kernel:0\n",
      "conv_pw_9_bn/gamma:0\n",
      "conv_pw_9_bn/beta:0\n",
      "conv_pw_9_bn/moving_mean:0\n",
      "conv_pw_9_bn/moving_variance:0\n",
      "conv_dw_10/depthwise_kernel:0\n",
      "conv_dw_10_bn/gamma:0\n",
      "conv_dw_10_bn/beta:0\n",
      "conv_dw_10_bn/moving_mean:0\n",
      "conv_dw_10_bn/moving_variance:0\n",
      "conv_pw_10/kernel:0\n",
      "conv_pw_10_bn/gamma:0\n",
      "conv_pw_10_bn/beta:0\n",
      "conv_pw_10_bn/moving_mean:0\n",
      "conv_pw_10_bn/moving_variance:0\n",
      "conv_dw_11/depthwise_kernel:0\n",
      "conv_dw_11_bn/gamma:0\n",
      "conv_dw_11_bn/beta:0\n",
      "conv_dw_11_bn/moving_mean:0\n",
      "conv_dw_11_bn/moving_variance:0\n",
      "conv_pw_11/kernel:0\n",
      "conv_pw_11_bn/gamma:0\n",
      "conv_pw_11_bn/beta:0\n",
      "conv_pw_11_bn/moving_mean:0\n",
      "conv_pw_11_bn/moving_variance:0\n",
      "conv_dw_12/depthwise_kernel:0\n",
      "conv_dw_12_bn/gamma:0\n",
      "conv_dw_12_bn/beta:0\n",
      "conv_dw_12_bn/moving_mean:0\n",
      "conv_dw_12_bn/moving_variance:0\n",
      "conv_pw_12/kernel:0\n",
      "conv_pw_12_bn/gamma:0\n",
      "conv_pw_12_bn/beta:0\n",
      "conv_pw_12_bn/moving_mean:0\n",
      "conv_pw_12_bn/moving_variance:0\n",
      "conv_dw_13/depthwise_kernel:0\n",
      "conv_dw_13_bn/gamma:0\n",
      "conv_dw_13_bn/beta:0\n",
      "conv_dw_13_bn/moving_mean:0\n",
      "conv_dw_13_bn/moving_variance:0\n",
      "conv_pw_13/kernel:0\n",
      "conv_pw_13_bn/gamma:0\n",
      "conv_pw_13_bn/beta:0\n",
      "conv_pw_13_bn/moving_mean:0\n",
      "conv_pw_13_bn/moving_variance:0\n",
      "conv_preds/kernel:0\n",
      "conv_preds/bias:0\n"
     ]
    }
   ],
   "source": [
    "for i in model.weights:\n",
    "    print(i.name)"
   ]
  },
  {
   "cell_type": "code",
   "execution_count": 84,
   "metadata": {
    "collapsed": false
   },
   "outputs": [
    {
     "data": {
      "text/plain": [
       "83"
      ]
     },
     "execution_count": 84,
     "metadata": {},
     "output_type": "execute_result"
    }
   ],
   "source": [
    "len(w_list)"
   ]
  },
  {
   "cell_type": "code",
   "execution_count": 85,
   "metadata": {
    "collapsed": false
   },
   "outputs": [
    {
     "data": {
      "text/plain": [
       "83"
      ]
     },
     "execution_count": 85,
     "metadata": {},
     "output_type": "execute_result"
    }
   ],
   "source": [
    "i"
   ]
  },
  {
   "cell_type": "code",
   "execution_count": 87,
   "metadata": {
    "collapsed": false
   },
   "outputs": [
    {
     "ename": "IndexError",
     "evalue": "list index out of range",
     "output_type": "error",
     "traceback": [
      "\u001b[0;31m---------------------------------------------------------------------------\u001b[0m",
      "\u001b[0;31mIndexError\u001b[0m                                Traceback (most recent call last)",
      "\u001b[0;32m<ipython-input-87-87be9781c5eb>\u001b[0m in \u001b[0;36m<module>\u001b[0;34m()\u001b[0m\n\u001b[0;32m----> 1\u001b[0;31m \u001b[0mw_list\u001b[0m\u001b[0;34m[\u001b[0m\u001b[0mi\u001b[0m\u001b[0;34m]\u001b[0m\u001b[0;34m\u001b[0m\u001b[0m\n\u001b[0m",
      "\u001b[0;31mIndexError\u001b[0m: list index out of range"
     ]
    }
   ],
   "source": [
    "w_list[i]"
   ]
  },
  {
   "cell_type": "code",
   "execution_count": null,
   "metadata": {
    "collapsed": true
   },
   "outputs": [],
   "source": []
  }
 ],
 "metadata": {
  "kernelspec": {
   "display_name": "Python [conda env:anaconda3]",
   "language": "python",
   "name": "conda-env-anaconda3-py"
  },
  "language_info": {
   "codemirror_mode": {
    "name": "ipython",
    "version": 3
   },
   "file_extension": ".py",
   "mimetype": "text/x-python",
   "name": "python",
   "nbconvert_exporter": "python",
   "pygments_lexer": "ipython3",
   "version": "3.5.6"
  }
 },
 "nbformat": 4,
 "nbformat_minor": 1
}
